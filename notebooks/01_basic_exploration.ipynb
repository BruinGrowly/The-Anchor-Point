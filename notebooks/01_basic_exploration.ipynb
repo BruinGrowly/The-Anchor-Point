{
 "cells": [
  {
   "cell_type": "markdown",
   "metadata": {},
   "source": [
    "# Basic Exploration of the Semantic Substrate\n",
    "\n",
    "This notebook provides an introduction to working with semantic coordinates and exploring the Anchor Point hypothesis."
   ]
  },
  {
   "cell_type": "code",
   "execution_count": null,
   "metadata": {},
   "outputs": [],
   "source": [
    "import sys\n",
    "sys.path.insert(0, '..')\n",
    "\n",
    "import numpy as np\n",
    "import pandas as pd\n",
    "import matplotlib.pyplot as plt\n",
    "\n",
    "from src.core.semantic_coordinates import (\n",
    "    SemanticCoordinate,\n",
    "    AnchorPoint,\n",
    "    HashBasedCoordinateGenerator,\n",
    "    calculate_statistics\n",
    ")\n",
    "\n",
    "from src.visualization.plot_coordinates import (\n",
    "    plot_distance_distribution,\n",
    "    plot_3d_projection,\n",
    "    plot_dimension_distributions,\n",
    "    plot_comparison\n",
    ")\n",
    "\n",
    "%matplotlib inline"
   ]
  },
  {
   "cell_type": "markdown",
   "metadata": {},
   "source": [
    "## 1. Understanding the Anchor Point\n",
    "\n",
    "The Universal Anchor Point represents the perfect unity of:\n",
    "- **Love** (1.0)\n",
    "- **Power** (1.0)\n",
    "- **Wisdom** (1.0)\n",
    "- **Justice** (1.0)\n",
    "\n",
    "Mathematically: **JEHOVAH = AGAPE = (1.0, 1.0, 1.0, 1.0)**"
   ]
  },
  {
   "cell_type": "code",
   "execution_count": null,
   "metadata": {},
   "outputs": [],
   "source": [
    "# Display the Anchor Point\n",
    "anchor = AnchorPoint.as_coordinate()\n",
    "print(anchor)\n",
    "print(f\"\\nCoordinates: {anchor.coordinates}\")\n",
    "print(f\"Distance to itself: {anchor.distance_to_anchor():.4f}\")"
   ]
  },
  {
   "cell_type": "markdown",
   "metadata": {},
   "source": [
    "## 2. Generate Semantic Coordinates\n",
    "\n",
    "We'll use hash-based coordinate generation to map concepts into the 4D semantic space."
   ]
  },
  {
   "cell_type": "code",
   "execution_count": null,
   "metadata": {},
   "outputs": [],
   "source": [
    "# Create coordinate generator\n",
    "generator = HashBasedCoordinateGenerator('sha256')\n",
    "\n",
    "# Define test concepts\n",
    "concepts = [\n",
    "    \"JEHOVAH\", \"AGAPE\", \"Love\", \"Justice\", \"Wisdom\", \"Power\",\n",
    "    \"Holy\", \"Righteous\", \"Truth\", \"Grace\", \"Mercy\",\n",
    "    \"Hatred\", \"Injustice\", \"Foolishness\", \"Weakness\",\n",
    "    \"Table\", \"Chair\", \"Rock\", \"Tree\", \"Water\"\n",
    "]\n",
    "\n",
    "# Generate coordinates\n",
    "coords = [generator.generate(c) for c in concepts]\n",
    "\n",
    "# Display\n",
    "for c in sorted(coords, key=lambda x: x.distance_to_anchor()):\n",
    "    print(f\"{c.concept:15s} - L:{c.love:.3f} P:{c.power:.3f} W:{c.wisdom:.3f} J:{c.justice:.3f} d:{c.distance_to_anchor():.3f}\")"
   ]
  },
  {
   "cell_type": "markdown",
   "metadata": {},
   "source": [
    "## 3. Statistical Analysis"
   ]
  },
  {
   "cell_type": "code",
   "execution_count": null,
   "metadata": {},
   "outputs": [],
   "source": [
    "# Calculate statistics\n",
    "stats = calculate_statistics(coords)\n",
    "\n",
    "print(\"Statistical Summary:\")\n",
    "print(\"=\" * 50)\n",
    "for key, value in stats.items():\n",
    "    print(f\"{key:20s}: {value:.4f}\")"
   ]
  },
  {
   "cell_type": "markdown",
   "metadata": {},
   "source": [
    "## 4. Visualizations"
   ]
  },
  {
   "cell_type": "code",
   "execution_count": null,
   "metadata": {},
   "outputs": [],
   "source": [
    "# Distance distribution\n",
    "plot_distance_distribution(coords, title=\"Distance Distribution to Anchor Point\")"
   ]
  },
  {
   "cell_type": "code",
   "execution_count": null,
   "metadata": {},
   "outputs": [],
   "source": [
    "# 3D projection\n",
    "plot_3d_projection(coords, axes=('love', 'wisdom', 'justice'))"
   ]
  },
  {
   "cell_type": "code",
   "execution_count": null,
   "metadata": {},
   "outputs": [],
   "source": [
    "# Dimension distributions\n",
    "plot_dimension_distributions(coords)"
   ]
  },
  {
   "cell_type": "markdown",
   "metadata": {},
   "source": [
    "## 5. Category Comparison\n",
    "\n",
    "Compare different categories of concepts."
   ]
  },
  {
   "cell_type": "code",
   "execution_count": null,
   "metadata": {},
   "outputs": [],
   "source": [
    "# Categorize concepts\n",
    "divine = [\"JEHOVAH\", \"AGAPE\", \"Love\", \"Justice\", \"Wisdom\", \"Power\", \"Holy\", \"Righteous\", \"Truth\", \"Grace\", \"Mercy\"]\n",
    "negative = [\"Hatred\", \"Injustice\", \"Foolishness\", \"Weakness\"]\n",
    "neutral = [\"Table\", \"Chair\", \"Rock\", \"Tree\", \"Water\"]\n",
    "\n",
    "# Generate coordinates for each category\n",
    "divine_coords = [generator.generate(c) for c in divine]\n",
    "negative_coords = [generator.generate(c) for c in negative]\n",
    "neutral_coords = [generator.generate(c) for c in neutral]\n",
    "\n",
    "# Compare distributions\n",
    "plot_comparison({\n",
    "    'Divine': divine_coords,\n",
    "    'Negative': negative_coords,\n",
    "    'Neutral': neutral_coords\n",
    "}, title=\"Distance Distribution by Category\")"
   ]
  },
  {
   "cell_type": "code",
   "execution_count": null,
   "metadata": {},
   "outputs": [],
   "source": [
    "# Statistical comparison\n",
    "print(\"Category Statistics:\")\n",
    "print(\"=\" * 60)\n",
    "\n",
    "for name, coords in [(\"Divine\", divine_coords), (\"Negative\", negative_coords), (\"Neutral\", neutral_coords)]:\n",
    "    distances = [c.distance_to_anchor() for c in coords]\n",
    "    print(f\"\\n{name}:\")\n",
    "    print(f\"  Mean distance:   {np.mean(distances):.4f}\")\n",
    "    print(f\"  Median distance: {np.median(distances):.4f}\")\n",
    "    print(f\"  Std distance:    {np.std(distances):.4f}\")\n",
    "    print(f\"  Min distance:    {np.min(distances):.4f}\")"
   ]
  },
  {
   "cell_type": "markdown",
   "metadata": {},
   "source": [
    "## 6. Critical Question: Is this pattern significant?\n",
    "\n",
    "Let's test if the observed differences are statistically significant."
   ]
  },
  {
   "cell_type": "code",
   "execution_count": null,
   "metadata": {},
   "outputs": [],
   "source": [
    "from scipy import stats as scipy_stats\n",
    "\n",
    "divine_distances = [c.distance_to_anchor() for c in divine_coords]\n",
    "neutral_distances = [c.distance_to_anchor() for c in neutral_coords]\n",
    "\n",
    "# T-test\n",
    "t_stat, p_value = scipy_stats.ttest_ind(divine_distances, neutral_distances)\n",
    "\n",
    "print(\"Statistical Significance Test:\")\n",
    "print(\"=\" * 60)\n",
    "print(f\"T-statistic: {t_stat:.4f}\")\n",
    "print(f\"P-value: {p_value:.4f}\")\n",
    "\n",
    "if p_value < 0.05:\n",
    "    if np.mean(divine_distances) < np.mean(neutral_distances):\n",
    "        print(\"\\n→ Divine concepts are SIGNIFICANTLY closer to Anchor (p < 0.05)\")\n",
    "    else:\n",
    "        print(\"\\n→ Divine concepts are SIGNIFICANTLY farther from Anchor (p < 0.05)\")\n",
    "else:\n",
    "    print(\"\\n→ No significant difference (p ≥ 0.05)\")\n",
    "    print(\"   This supports the null hypothesis that distances are random.\")"
   ]
  },
  {
   "cell_type": "markdown",
   "metadata": {},
   "source": [
    "## 7. Exploration: Try Your Own Concepts\n",
    "\n",
    "Modify the cell below to test your own concepts!"
   ]
  },
  {
   "cell_type": "code",
   "execution_count": null,
   "metadata": {},
   "outputs": [],
   "source": [
    "# Add your own concepts here\n",
    "my_concepts = [\n",
    "    \"Faith\",\n",
    "    \"Hope\",\n",
    "    \"Charity\",\n",
    "    # Add more...\n",
    "]\n",
    "\n",
    "my_coords = [generator.generate(c) for c in my_concepts]\n",
    "\n",
    "for c in sorted(my_coords, key=lambda x: x.distance_to_anchor()):\n",
    "    print(f\"{c.concept:15s} - Distance: {c.distance_to_anchor():.4f}\")"
   ]
  },
  {
   "cell_type": "markdown",
   "metadata": {},
   "source": [
    "## Next Steps\n",
    "\n",
    "1. Run reproducibility tests: `tests/reproducibility/test_hash_functions.py`\n",
    "2. Test at scale: `tests/scale/test_large_scale.py`\n",
    "3. Read the research questions: `docs/RESEARCH_QUESTIONS.md`\n",
    "4. Design your own experiments!\n",
    "\n",
    "**Key Question**: Is the pattern real, or is it a statistical artifact?"
   ]
  }
 ],
 "metadata": {
  "kernelspec": {
   "display_name": "Python 3",
   "language": "python",
   "name": "python3"
  },
  "language_info": {
   "codemirror_mode": {
    "name": "ipython",
    "version": 3
   },
   "file_extension": ".py",
   "mimetype": "text/x-python",
   "name": "python",
   "nbconvert_exporter": "python",
   "pygments_lexer": "ipython3",
   "version": "3.8.0"
  }
 },
 "nbformat": 4,
 "nbformat_minor": 4
}
